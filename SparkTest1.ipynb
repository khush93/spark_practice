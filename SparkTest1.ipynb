{
 "cells": [
  {
   "cell_type": "code",
   "execution_count": 1,
   "id": "1ad4f415",
   "metadata": {},
   "outputs": [],
   "source": [
    "import os"
   ]
  },
  {
   "cell_type": "code",
   "execution_count": 2,
   "id": "f5c41383",
   "metadata": {},
   "outputs": [],
   "source": [
    "# os.environ['PYSPARK_PYTHON'] = \"python\"\n"
   ]
  },
  {
   "cell_type": "code",
   "execution_count": 1,
   "id": "24f5b002",
   "metadata": {},
   "outputs": [],
   "source": [
    "from pyspark.sql import SparkSession"
   ]
  },
  {
   "cell_type": "code",
   "execution_count": 2,
   "id": "50599a5c",
   "metadata": {},
   "outputs": [],
   "source": [
    "spark = SparkSession.builder.master(\"local[1]\").appName('KS1').getOrCreate()"
   ]
  },
  {
   "cell_type": "code",
   "execution_count": 3,
   "id": "5b7e6d5e",
   "metadata": {},
   "outputs": [
    {
     "name": "stdout",
     "output_type": "stream",
     "text": [
      "3.10.9 | packaged by Anaconda, Inc. | (main, Mar  1 2023, 18:18:15) [MSC v.1916 64 bit (AMD64)]\n",
      "C:\\Users\\ASUS\\anaconda3\\python.exe\n"
     ]
    }
   ],
   "source": [
    "import sys\n",
    "print(sys.version)\n",
    "print(sys.executable)"
   ]
  },
  {
   "cell_type": "markdown",
   "id": "3f0fa81e",
   "metadata": {},
   "source": [
    "### Read file and print schema\n",
    "\n",
    "**Initial exploration of data**"
   ]
  },
  {
   "cell_type": "code",
   "execution_count": 4,
   "id": "2d94e404",
   "metadata": {},
   "outputs": [],
   "source": [
    "df = spark.read.json(\"Digital_Music.json\")"
   ]
  },
  {
   "cell_type": "code",
   "execution_count": 5,
   "id": "5e195767",
   "metadata": {},
   "outputs": [
    {
     "name": "stdout",
     "output_type": "stream",
     "text": [
      "root\n",
      " |-- asin: string (nullable = true)\n",
      " |-- image: array (nullable = true)\n",
      " |    |-- element: string (containsNull = true)\n",
      " |-- overall: double (nullable = true)\n",
      " |-- reviewText: string (nullable = true)\n",
      " |-- reviewTime: string (nullable = true)\n",
      " |-- reviewerID: string (nullable = true)\n",
      " |-- reviewerName: string (nullable = true)\n",
      " |-- style: struct (nullable = true)\n",
      " |    |-- Color:: string (nullable = true)\n",
      " |    |-- Format:: string (nullable = true)\n",
      " |    |-- Size:: string (nullable = true)\n",
      " |-- summary: string (nullable = true)\n",
      " |-- unixReviewTime: long (nullable = true)\n",
      " |-- verified: boolean (nullable = true)\n",
      " |-- vote: string (nullable = true)\n",
      "\n"
     ]
    }
   ],
   "source": [
    "df.printSchema()"
   ]
  },
  {
   "cell_type": "code",
   "execution_count": null,
   "id": "52765776",
   "metadata": {},
   "outputs": [],
   "source": [
    "#(item,user,rating,timestamp)"
   ]
  },
  {
   "cell_type": "code",
   "execution_count": 6,
   "id": "1ead6e1f",
   "metadata": {},
   "outputs": [],
   "source": [
    "from pyspark.sql.types import StructType, StructField, StringType, FloatType\n",
    "\n",
    "schema = StructType([\n",
    "    StructField(\"item\", StringType(), True),\n",
    "    StructField(\"user\", StringType(), True),\n",
    "    StructField(\"rating\", FloatType(), True),\n",
    "    StructField(\"timestamp\", StringType(), True)\n",
    "])"
   ]
  },
  {
   "cell_type": "code",
   "execution_count": 7,
   "id": "623b9672",
   "metadata": {},
   "outputs": [],
   "source": [
    "df2 = spark.read.csv(\"Patio_Lawn_and_Garden.csv\", header=False, schema=schema)"
   ]
  },
  {
   "cell_type": "code",
   "execution_count": 8,
   "id": "fb83f0bd",
   "metadata": {},
   "outputs": [
    {
     "name": "stdout",
     "output_type": "stream",
     "text": [
      "+----------+-----+-------+--------------------+-----------+--------------+-------------------+--------------------+--------------------+--------------+--------+----+\n",
      "|      asin|image|overall|          reviewText| reviewTime|    reviewerID|       reviewerName|               style|             summary|unixReviewTime|verified|vote|\n",
      "+----------+-----+-------+--------------------+-----------+--------------+-------------------+--------------------+--------------------+--------------+--------+----+\n",
      "|0001388703| NULL|    5.0|This is a great c...|12 22, 2013|A1ZCPG3D3HGRSS|     mark l. massey|{NULL,  Audio CD,...|    Great worship cd|    1387670400|    true|NULL|\n",
      "|0001388703| NULL|    5.0|So creative!  Lov...|09 11, 2013| AC2PL52NKPL29|       Norma Mushen|{NULL,  Audio CD,...|Gotta listen to t...|    1378857600|    true|NULL|\n",
      "|0001388703| NULL|    5.0|Keith Green, gone...| 03 2, 2013|A1SUZXBDZSDQ3A| Herbert W. Shurley|{NULL,  Audio CD,...|Great approach st...|    1362182400|    true|NULL|\n",
      "|0001388703| NULL|    5.0|Keith Green had h...| 12 2, 2012|A3A0W7FZXM0IZW|     Mary M Raybell|{NULL,  Audio CD,...|   Great A must have|    1354406400|    true|NULL|\n",
      "|0001388703| NULL|    5.0|Keith Green / So ...| 01 7, 2012|A12R54MKO17TW0|           J. Bynum|{NULL,  Audio CD,...|A great one from ...|    1325894400|   false|   6|\n",
      "|0001388703| NULL|    5.0|Clever,inspired a...| 07 8, 2009|A25ZT87OMIPLNX| Mark the Pizza guy|{NULL,  MP3 Music...|              AWSOME|    1247011200|   false|   2|\n",
      "|0001388703| NULL|    1.0|This tape can har...|05 14, 2009|A3NVGWKHLULDHR|Therese M. Teasdale|{NULL,  Audio Cas...|         Shame Shame|    1242259200|   false|NULL|\n",
      "|0001388703| NULL|    5.0|Keith Green is a ...| 05 4, 2008| AT7OB43GHKIUA|   William G. Simon|{NULL,  Audio CD,...|Heartfelt, Passio...|    1209859200|   false|  10|\n",
      "|0001388703| NULL|    5.0|             Pleased|09 18, 2015|A1H3X1TW6Y7HD8|       Nancy Abbott|{NULL,  Audio CD,...|          Five Stars|    1442534400|    true|NULL|\n",
      "|0001388703| NULL|    1.0|Buy the CD.  Do n...|05 15, 2015| AZ3T21W6CW0MW|               None|{NULL,  MP3 Music...|Buy the CD.  Do n...|    1431648000|    true|NULL|\n",
      "|0001388703| NULL|    5.0|Takes me back to ...|03 13, 2015|A2W6V65OFOZ12M|       amharris1962|{NULL,  MP3 Music...|            Love it!|    1426204800|    true|NULL|\n",
      "|0001388703| NULL|    5.0|What can ever go ...| 11 4, 2014|A1DOF5GHOWGMW6|                  p|{NULL,  Audio CD,...|                LOVE|    1415059200|    true|NULL|\n",
      "|0001388703| NULL|    5.0|This has always b...|10 12, 2014| A4V08BR7LZ6D9| James M. Daugherty|{NULL,  Audio CD,...|So You Wanna Go B...|    1413072000|    true|NULL|\n",
      "|0001388703| NULL|    5.0|Keith Green was a...|09 23, 2014| AJO3UG6FR5C7R|     Steven M. Gray|{NULL,  MP3 Music...|His music is stil...|    1411430400|    true|NULL|\n",
      "|0001388703| NULL|    4.0|A favorite cd now...|08 25, 2014|A106GSY0H5E2R4|                MSH|{NULL,  Audio CD,...|Wonderful collect...|    1408924800|    true|NULL|\n",
      "|0001388703| NULL|    3.0|The CD was not in...|05 26, 2014|A33D2MKED6ZENS| Grateful Grandmama|{NULL,  Audio CD,...|Review on \"So You...|    1401062400|    true|NULL|\n",
      "|0001388703| NULL|    5.0|The passion and i...|04 15, 2014|A27P44I54RUMDC|            B. Ross|{NULL,  Audio CD,...|No one like Keith...|    1397520000|    true|NULL|\n",
      "|0001388703| NULL|    5.0|Keith's music is ...|02 25, 2014|A2A3M3HVVGT9XY|              Bryan|{NULL,  MP3 Music...|      Never Gets Old|    1393286400|    true|   2|\n",
      "|0001526146| NULL|    5.0|This is music fro...|01 20, 2017|A2HVNCQUR2J4NL|       Brenda Mudra|                NULL|        Great. music|    1484870400|    true|NULL|\n",
      "|0001526146| NULL|    5.0|I love Dallas Hol...| 10 3, 2016| A50DSLM71EAVO|    Amazon Customer|                NULL|          Five Stars|    1475452800|    true|NULL|\n",
      "+----------+-----+-------+--------------------+-----------+--------------+-------------------+--------------------+--------------------+--------------+--------+----+\n",
      "only showing top 20 rows\n",
      "\n"
     ]
    }
   ],
   "source": [
    "df.show()"
   ]
  },
  {
   "cell_type": "markdown",
   "id": "c9318a0b",
   "metadata": {},
   "source": [
    "**Creating a dummy window partition to use with max and min functions over the entire data**"
   ]
  },
  {
   "cell_type": "code",
   "execution_count": 9,
   "id": "701feb4f",
   "metadata": {},
   "outputs": [],
   "source": [
    "from pyspark.sql import functions as f\n",
    "from pyspark.sql import Window"
   ]
  },
  {
   "cell_type": "code",
   "execution_count": 10,
   "id": "9b874bdc",
   "metadata": {},
   "outputs": [],
   "source": [
    "df = df.withColumn(\"fullWindow\", f.lit(1))"
   ]
  },
  {
   "cell_type": "code",
   "execution_count": 11,
   "id": "e979fdfe",
   "metadata": {},
   "outputs": [],
   "source": [
    "w = Window.partitionBy('fullWindow')"
   ]
  },
  {
   "cell_type": "markdown",
   "id": "062dcf7e",
   "metadata": {},
   "source": [
    "**Total number of records**"
   ]
  },
  {
   "cell_type": "code",
   "execution_count": 12,
   "id": "5e3f9032",
   "metadata": {},
   "outputs": [
    {
     "data": {
      "text/plain": [
       "1584082"
      ]
     },
     "execution_count": 12,
     "metadata": {},
     "output_type": "execute_result"
    }
   ],
   "source": [
    "df.count()"
   ]
  },
  {
   "cell_type": "markdown",
   "id": "090f558e",
   "metadata": {},
   "source": [
    "**Calculating max of rating column over our dummy window and storing into a column 'maxRating'. Then filtering on rows which have rating equal to 'maxRating'. Repeating the same operation for min.**"
   ]
  },
  {
   "cell_type": "code",
   "execution_count": 13,
   "id": "03e2b9eb",
   "metadata": {},
   "outputs": [],
   "source": [
    "df_max = df.withColumn('maxRating', f.max('overall').over(w))\\\n",
    "    .where(f.col('overall') == f.col('maxRating'))"
   ]
  },
  {
   "cell_type": "code",
   "execution_count": 14,
   "id": "2bb253be",
   "metadata": {},
   "outputs": [
    {
     "data": {
      "text/plain": [
       "1280147"
      ]
     },
     "execution_count": 14,
     "metadata": {},
     "output_type": "execute_result"
    }
   ],
   "source": [
    "df_max.count()"
   ]
  },
  {
   "cell_type": "code",
   "execution_count": 15,
   "id": "0cf52d82",
   "metadata": {},
   "outputs": [],
   "source": [
    "df_min = df.withColumn('minRating', f.min('overall').over(w))\\\n",
    "    .where(f.col('overall') == f.col('minRating'))"
   ]
  },
  {
   "cell_type": "code",
   "execution_count": 16,
   "id": "aa5bdee3",
   "metadata": {},
   "outputs": [
    {
     "data": {
      "text/plain": [
       "43108"
      ]
     },
     "execution_count": 16,
     "metadata": {},
     "output_type": "execute_result"
    }
   ],
   "source": [
    "df_min.count()"
   ]
  },
  {
   "cell_type": "code",
   "execution_count": 17,
   "id": "1ba3b2f4",
   "metadata": {
    "scrolled": true
   },
   "outputs": [
    {
     "name": "stdout",
     "output_type": "stream",
     "text": [
      "+----------+-----+-------+--------------------+-----------+--------------+-------------------+--------------------+--------------------+--------------+--------+----+----------+---------+\n",
      "|      asin|image|overall|          reviewText| reviewTime|    reviewerID|       reviewerName|               style|             summary|unixReviewTime|verified|vote|fullWindow|minRating|\n",
      "+----------+-----+-------+--------------------+-----------+--------------+-------------------+--------------------+--------------------+--------------+--------+----+----------+---------+\n",
      "|0001388703| NULL|    1.0|This tape can har...|05 14, 2009|A3NVGWKHLULDHR|Therese M. Teasdale|{NULL,  Audio Cas...|         Shame Shame|    1242259200|   false|NULL|         1|      1.0|\n",
      "|0001388703| NULL|    1.0|Buy the CD.  Do n...|05 15, 2015| AZ3T21W6CW0MW|               None|{NULL,  MP3 Music...|Buy the CD.  Do n...|    1431648000|    true|NULL|         1|      1.0|\n",
      "|B00YDWW4WI| NULL|    1.0|The album is just...| 07 9, 2016|A2TB2T2VIHVTCD|         Joe Schmoe|                NULL|The album is just...|    1468022400|    true|NULL|         1|      1.0|\n",
      "|0760103453| NULL|    1.0|These may be, and...|06 26, 2005|A1Y34MU4KXS2NT|     James Neihouse|{NULL,  Audio CD,...|Greatest Songs, W...|    1119744000|   false|NULL|         1|      1.0|\n",
      "|0966484525| NULL|    1.0|Well, this would ...|12 28, 2005|A16MUXO1BYGPCI|        Logical Dad|{NULL,  Audio CD,...|       Gutter trash.|    1135728000|   false|  17|         1|      1.0|\n",
      "|0966484525| NULL|    1.0|I agree 100% with...|03 23, 2007| ADS6Y2663M0W0|         Little Mom|{NULL,  Audio CD,...|Very tasteless an...|    1174608000|   false|  10|         1|      1.0|\n",
      "|0966484525| NULL|    1.0|This product shou...| 03 5, 2007|A24TGR8012O9MP|              Emily|{NULL,  Audio CD,...|          Irritating|    1173052800|   false|   3|         1|      1.0|\n",
      "|0966484525| NULL|    1.0|Anyone with a voi...| 11 4, 2006|A31KGHN7GDVAML|               Mike|{NULL,  Audio CD,...|        Annoying!!!!|    1162598400|   false|NULL|         1|      1.0|\n",
      "|1932192077| NULL|    1.0|This is completel...|10 10, 2017|A192BGYMUHWF9S|          atomsound|{NULL,  Audio CD,...|This is fake - th...|    1507593600|   false|  15|         1|      1.0|\n",
      "|B00YE9NG8Q| NULL|    1.0|just really medic...|07 15, 2015|A1Z8AMWLV7CKRF|             Steven|                NULL|      weak jam trash|    1436918400|   false|NULL|         1|      1.0|\n",
      "|B00YE9FDQE| NULL|    1.0|CD skips ! Unable...| 08 4, 2018|A3KXVWNZC9VQBV|       Stacey Cline|{NULL,  Audio CD,...|            CD skips|    1533340800|    true|NULL|         1|      1.0|\n",
      "|1932192077| NULL|    1.0|Hoax. You tuber r...|09 14, 2015|A27GDJQXQ3CX6O|         MarieSmith|{NULL,  Audio CD,...|               Hoax.|    1442188800|   false|   5|         1|      1.0|\n",
      "|1932192077| NULL|    1.0|I had hope for a ...|12 21, 2014|A241E81J77TAQK| Jonathan P. Leaver|{NULL,  Audio CD,...|            One Star|    1419120000|    true|NULL|         1|      1.0|\n",
      "|B00YE9NC94| NULL|    1.0|reminds me a lot ...|07 15, 2015|A1Z8AMWLV7CKRF|             Steven|                NULL|      bleeeeeecchhhh|    1436918400|   false|NULL|         1|      1.0|\n",
      "|1932192077| NULL|    1.0|Too short of a mu...|05 24, 2014|A3V2IAJ2GAIRCA|      Joy Manlangit|{NULL,  Audio CD,...|Listening to it t...|    1400889600|    true|   8|         1|      1.0|\n",
      "|B00YE9N0PA| NULL|    1.0|derivative uninsp...|07 15, 2015|A1Z8AMWLV7CKRF|             Steven|{NULL,  MP3 Music...|     ear raper bison|    1436918400|   false|NULL|         1|      1.0|\n",
      "|1932192077| NULL|    1.0|If this were what...|11 26, 2013| A2VCBDZHW455L|     Thierry Martin|{NULL,  Audio CD,...|What ridiculous n...|    1385424000|   false|   4|         1|      1.0|\n",
      "|1932192077| NULL|    1.0|The reason so man...|11 25, 2013|A3PDGL92JZ09UM|  j michael rowland|{NULL,  Audio CD,...|Represented as so...|    1385337600|    true|  52|         1|      1.0|\n",
      "|1932192077| NULL|    1.0|HOAX! It's a wond...|11 22, 2013|A1ETM1ROY160CP|              Kanat|{NULL,  Audio CD,...|                HOAX|    1385078400|   false|  65|         1|      1.0|\n",
      "|1932192077| NULL|    1.0|Jim Wilson didn't...|11 22, 2013|A1E8ELW8RZ3PHT|    Robert Luobikis|{NULL,  Audio CD,...|Really?? No it is...|    1385078400|   false|  38|         1|      1.0|\n",
      "+----------+-----+-------+--------------------+-----------+--------------+-------------------+--------------------+--------------------+--------------+--------+----+----------+---------+\n",
      "only showing top 20 rows\n",
      "\n"
     ]
    }
   ],
   "source": [
    "df_min.show()"
   ]
  },
  {
   "cell_type": "markdown",
   "id": "fa1fa5d7",
   "metadata": {},
   "source": [
    "### Longest review in data"
   ]
  },
  {
   "cell_type": "markdown",
   "id": "f266b781",
   "metadata": {},
   "source": [
    "**Using length function on reviewText column followed by max**"
   ]
  },
  {
   "cell_type": "code",
   "execution_count": 27,
   "id": "5e7ac945",
   "metadata": {},
   "outputs": [],
   "source": [
    "df_max_length = df.withColumn('maxLength', f.max(f.length('reviewText')).over(w))\\\n",
    "    .where(f.length('reviewText') == f.col('maxLength'))"
   ]
  },
  {
   "cell_type": "code",
   "execution_count": 21,
   "id": "5e45d785",
   "metadata": {},
   "outputs": [
    {
     "name": "stdout",
     "output_type": "stream",
     "text": [
      "+----------+-----+-------+--------------------+-----------+--------------+-------------+--------------------+--------------------+--------------+--------+----+----------+---------+\n",
      "|      asin|image|overall|          reviewText| reviewTime|    reviewerID| reviewerName|               style|             summary|unixReviewTime|verified|vote|fullWindow|maxLength|\n",
      "+----------+-----+-------+--------------------+-----------+--------------+-------------+--------------------+--------------------+--------------+--------+----+----------+---------+\n",
      "|B00FZ11C0G| NULL|    3.0|This is my novel-...|03 26, 2013|A2NAWWR03ZBUTB|Just Some Guy|{NULL,  Audio CD,...|What if Thomas Ke...|    1364256000|    true|  26|         1|    32501|\n",
      "+----------+-----+-------+--------------------+-----------+--------------+-------------+--------------------+--------------------+--------------+--------+----+----------+---------+\n",
      "\n"
     ]
    }
   ],
   "source": [
    "df_max_length.show()"
   ]
  },
  {
   "cell_type": "code",
   "execution_count": 22,
   "id": "9bc8d20c",
   "metadata": {},
   "outputs": [
    {
     "data": {
      "text/plain": [
       "1"
      ]
     },
     "execution_count": 22,
     "metadata": {},
     "output_type": "execute_result"
    }
   ],
   "source": [
    "df_max_length.count()"
   ]
  },
  {
   "cell_type": "code",
   "execution_count": 28,
   "id": "c0cae408",
   "metadata": {},
   "outputs": [],
   "source": [
    "df_date = df.select(\"*\",f.to_date(f.col(\"reviewTime\"),\"MM d, yyyy\").alias(\"reviewDateFormatted\"))"
   ]
  },
  {
   "cell_type": "code",
   "execution_count": 24,
   "id": "da510605",
   "metadata": {},
   "outputs": [
    {
     "name": "stdout",
     "output_type": "stream",
     "text": [
      "+----------+-----+-------+--------------------+-----------+--------------+-------------------+--------------------+--------------------+--------------+--------+----+----------+-------------------+\n",
      "|      asin|image|overall|          reviewText| reviewTime|    reviewerID|       reviewerName|               style|             summary|unixReviewTime|verified|vote|fullWindow|reviewDateFormatted|\n",
      "+----------+-----+-------+--------------------+-----------+--------------+-------------------+--------------------+--------------------+--------------+--------+----+----------+-------------------+\n",
      "|0001388703| NULL|    5.0|This is a great c...|12 22, 2013|A1ZCPG3D3HGRSS|     mark l. massey|{NULL,  Audio CD,...|    Great worship cd|    1387670400|    true|NULL|         1|         2013-12-22|\n",
      "|0001388703| NULL|    5.0|So creative!  Lov...|09 11, 2013| AC2PL52NKPL29|       Norma Mushen|{NULL,  Audio CD,...|Gotta listen to t...|    1378857600|    true|NULL|         1|         2013-09-11|\n",
      "|0001388703| NULL|    5.0|Keith Green, gone...| 03 2, 2013|A1SUZXBDZSDQ3A| Herbert W. Shurley|{NULL,  Audio CD,...|Great approach st...|    1362182400|    true|NULL|         1|         2013-03-02|\n",
      "|0001388703| NULL|    5.0|Keith Green had h...| 12 2, 2012|A3A0W7FZXM0IZW|     Mary M Raybell|{NULL,  Audio CD,...|   Great A must have|    1354406400|    true|NULL|         1|         2012-12-02|\n",
      "|0001388703| NULL|    5.0|Keith Green / So ...| 01 7, 2012|A12R54MKO17TW0|           J. Bynum|{NULL,  Audio CD,...|A great one from ...|    1325894400|   false|   6|         1|         2012-01-07|\n",
      "|0001388703| NULL|    5.0|Clever,inspired a...| 07 8, 2009|A25ZT87OMIPLNX| Mark the Pizza guy|{NULL,  MP3 Music...|              AWSOME|    1247011200|   false|   2|         1|         2009-07-08|\n",
      "|0001388703| NULL|    1.0|This tape can har...|05 14, 2009|A3NVGWKHLULDHR|Therese M. Teasdale|{NULL,  Audio Cas...|         Shame Shame|    1242259200|   false|NULL|         1|         2009-05-14|\n",
      "|0001388703| NULL|    5.0|Keith Green is a ...| 05 4, 2008| AT7OB43GHKIUA|   William G. Simon|{NULL,  Audio CD,...|Heartfelt, Passio...|    1209859200|   false|  10|         1|         2008-05-04|\n",
      "|0001388703| NULL|    5.0|             Pleased|09 18, 2015|A1H3X1TW6Y7HD8|       Nancy Abbott|{NULL,  Audio CD,...|          Five Stars|    1442534400|    true|NULL|         1|         2015-09-18|\n",
      "|0001388703| NULL|    1.0|Buy the CD.  Do n...|05 15, 2015| AZ3T21W6CW0MW|               None|{NULL,  MP3 Music...|Buy the CD.  Do n...|    1431648000|    true|NULL|         1|         2015-05-15|\n",
      "|0001388703| NULL|    5.0|Takes me back to ...|03 13, 2015|A2W6V65OFOZ12M|       amharris1962|{NULL,  MP3 Music...|            Love it!|    1426204800|    true|NULL|         1|         2015-03-13|\n",
      "|0001388703| NULL|    5.0|What can ever go ...| 11 4, 2014|A1DOF5GHOWGMW6|                  p|{NULL,  Audio CD,...|                LOVE|    1415059200|    true|NULL|         1|         2014-11-04|\n",
      "|0001388703| NULL|    5.0|This has always b...|10 12, 2014| A4V08BR7LZ6D9| James M. Daugherty|{NULL,  Audio CD,...|So You Wanna Go B...|    1413072000|    true|NULL|         1|         2014-10-12|\n",
      "|0001388703| NULL|    5.0|Keith Green was a...|09 23, 2014| AJO3UG6FR5C7R|     Steven M. Gray|{NULL,  MP3 Music...|His music is stil...|    1411430400|    true|NULL|         1|         2014-09-23|\n",
      "|0001388703| NULL|    4.0|A favorite cd now...|08 25, 2014|A106GSY0H5E2R4|                MSH|{NULL,  Audio CD,...|Wonderful collect...|    1408924800|    true|NULL|         1|         2014-08-25|\n",
      "|0001388703| NULL|    3.0|The CD was not in...|05 26, 2014|A33D2MKED6ZENS| Grateful Grandmama|{NULL,  Audio CD,...|Review on \"So You...|    1401062400|    true|NULL|         1|         2014-05-26|\n",
      "|0001388703| NULL|    5.0|The passion and i...|04 15, 2014|A27P44I54RUMDC|            B. Ross|{NULL,  Audio CD,...|No one like Keith...|    1397520000|    true|NULL|         1|         2014-04-15|\n",
      "|0001388703| NULL|    5.0|Keith's music is ...|02 25, 2014|A2A3M3HVVGT9XY|              Bryan|{NULL,  MP3 Music...|      Never Gets Old|    1393286400|    true|   2|         1|         2014-02-25|\n",
      "|0001526146| NULL|    5.0|This is music fro...|01 20, 2017|A2HVNCQUR2J4NL|       Brenda Mudra|                NULL|        Great. music|    1484870400|    true|NULL|         1|         2017-01-20|\n",
      "|0001526146| NULL|    5.0|I love Dallas Hol...| 10 3, 2016| A50DSLM71EAVO|    Amazon Customer|                NULL|          Five Stars|    1475452800|    true|NULL|         1|         2016-10-03|\n",
      "+----------+-----+-------+--------------------+-----------+--------------+-------------------+--------------------+--------------------+--------------+--------+----+----------+-------------------+\n",
      "only showing top 20 rows\n",
      "\n"
     ]
    }
   ],
   "source": [
    "df_date.show()"
   ]
  },
  {
   "cell_type": "code",
   "execution_count": 29,
   "id": "9fe976df",
   "metadata": {},
   "outputs": [],
   "source": [
    "windowSpec  = Window.partitionBy(\"fullWindow\").orderBy(\"unixReviewTime\")"
   ]
  },
  {
   "cell_type": "code",
   "execution_count": 30,
   "id": "e362416c",
   "metadata": {},
   "outputs": [],
   "source": [
    "df_date_lag = df_date.withColumn(\"lag_time\", f.lag(\"unixReviewTime\").over(windowSpec))"
   ]
  },
  {
   "cell_type": "code",
   "execution_count": 55,
   "id": "c5c27b6b",
   "metadata": {},
   "outputs": [
    {
     "name": "stdout",
     "output_type": "stream",
     "text": [
      "+----------+-----+-------+--------------------+-----------+--------------+--------------------+--------------------+--------------------+--------------+--------+----+----------+-------------------+---------+\n",
      "|      asin|image|overall|          reviewText| reviewTime|    reviewerID|        reviewerName|               style|             summary|unixReviewTime|verified|vote|fullWindow|reviewDateFormatted| lag_time|\n",
      "+----------+-----+-------+--------------------+-----------+--------------+--------------------+--------------------+--------------------+--------------+--------+----+----------+-------------------+---------+\n",
      "|9714721180| NULL|    5.0|Released on Novem...|10 20, 1997|A2SY49Z6H96QVR|   dcollins@s3two.ie|{NULL,  Audio CD,...|Trash metal miles...|     877305600|   false|   5|         1|         1997-10-20|     NULL|\n",
      "|B0013D89TW| NULL|    5.0|This two CD retro...|11 28, 1997|A2XT7XLQ8DD4NZ|     kblalak@usa.net|{NULL,  Audio CD,...|         Mott Rocks!|     880675200|   false|NULL|         1|         1997-11-28|877305600|\n",
      "|B0013D89TW| NULL|    5.0|This two CD retro...|11 28, 1997|A2XT7XLQ8DD4NZ|     kblalak@usa.net|{NULL,  Audio CD,...|         Mott Rocks!|     880675200|   false|NULL|         1|         1997-11-28|880675200|\n",
      "|B00122Z4Y2| NULL|    5.0|Darkest of ALL th...|04 22, 1998|A3OS0Q4XX0QSA4| dougc@speakeasy.org|                NULL|Insanity, need we...|     893203200|   false|NULL|         1|         1998-04-22|880675200|\n",
      "|B00122Z4Y2| NULL|    5.0|Darkest of ALL th...|04 22, 1998|A3OS0Q4XX0QSA4| dougc@speakeasy.org|                NULL|Insanity, need we...|     893203200|   false|NULL|         1|         1998-04-22|893203200|\n",
      "|B0010W4LN4| NULL|    5.0|The various artis...|04 30, 1998|A2BKWRV2VFNJ7K| &#034;pemcori&#034;|{NULL,  Audio CD,...|Glorious soulful ...|     893894400|   false|   9|         1|         1998-04-30|893203200|\n",
      "|9714721180| NULL|    4.0|I think old Metal...| 05 2, 1998|A1CGFFLDWQ2U3J|t.anttila@kolumbu...|{NULL,  Audio CD,...|Good aggressive h...|     894067200|   false|   3|         1|         1998-05-02|893894400|\n",
      "|B00122TDX0| NULL|    5.0|Some of the best ...| 05 5, 1998|A1YP5K805X9Z7A|rkilburn@gateway.net|{NULL,  Audio CD,...|Real Country by a...|     894326400|   false|   2|         1|         1998-05-05|894067200|\n",
      "|B00B7U28IY| NULL|    4.0|A great CD, with ...| 05 6, 1998|A13AE3Y9IVNOYF|          JAbarbanel|{NULL,  Audio CD,...|           Fantastic|     894412800|   false|NULL|         1|         1998-05-06|894326400|\n",
      "|9714721180| NULL|    5.0|Its all down hill...| 05 8, 1998|A2C3EDE1GP9W81|tphill@sttl.uswes...|{NULL,  Audio CD,...|The Pinnacle of H...|     894585600|   false|NULL|         1|         1998-05-08|894412800|\n",
      "|9714721180| NULL|    5.0|Ride The Lighting...|05 10, 1998|A2MNQKBNKYC5TH|    Michele Beltrame|{NULL,  Audio CD,...|Another great Met...|     894758400|   false|NULL|         1|         1998-05-10|894585600|\n",
      "|9714721180| NULL|    5.0|Ride the Lightnin...|05 11, 1998|A38O27NSFNMMY2|             Michael|{NULL,  Audio CD,...|No words can do t...|     894844800|   false|NULL|         1|         1998-05-11|894758400|\n",
      "|B0010W4LN4| NULL|    5.0|If you love class...|05 11, 1998|A1NPREO2SIUPJ4|cvmobley@earthlin...|{NULL,  Audio CD,...|If you call yours...|     894844800|   false|   5|         1|         1998-05-11|894844800|\n",
      "|9714721180| NULL|    4.0|Metallica' good s...|05 17, 1998|A1GYN1SMUTTRY4|Ahmed El.Araby (a...|{NULL,  Audio CD,...|Rather old, But r...|     895363200|   false|NULL|         1|         1998-05-17|894844800|\n",
      "|B001AAK3BK| NULL|    5.0|Quite simply, You...|05 21, 1998|A3PNLJKIZ0YLCW|  jbenning@umich.edu|                NULL|The Best Rap CD o...|     895708800|   false|NULL|         1|         1998-05-21|895363200|\n",
      "|B0116G4MGE| NULL|    5.0|Siroco is a must ...| 06 1, 1998|A3PXILG94QX9PC|  TinaTango8@aol.com|{NULL,  Audio CD,...|A Must-Buy for An...|     896659200|   false|   9|         1|         1998-06-01|895708800|\n",
      "|B000V63C4Y| NULL|    5.0|This disk is made...| 06 6, 1998|A2BSVU7X5FT5MI|Knud Rogilds (kro...|                NULL|The hottest and c...|     897091200|   false|NULL|         1|         1998-06-06|896659200|\n",
      "|B00124DTBK| NULL|    5.0|Those that have e...| 06 9, 1998|A2FHW750983CNV|  lginzo@capecod.net|                NULL|The quintessentia...|     897350400|   false|NULL|         1|         1998-06-09|897091200|\n",
      "|B00124DTBK| NULL|    5.0|Those that have e...| 06 9, 1998|A2FHW750983CNV|  lginzo@capecod.net|                NULL|The quintessentia...|     897350400|   false|NULL|         1|         1998-06-09|897350400|\n",
      "|B0035MOVJG| NULL|    5.0|This is a great c...| 06 9, 1998|A3GRJ6PWQO0H1D|    j4mookie@aol.com|{NULL,  Audio CD,...|     Great !!!!!!!!!|     897350400|   false|   2|         1|         1998-06-09|897350400|\n",
      "+----------+-----+-------+--------------------+-----------+--------------+--------------------+--------------------+--------------------+--------------+--------+----+----------+-------------------+---------+\n",
      "only showing top 20 rows\n",
      "\n"
     ]
    }
   ],
   "source": [
    "df_date_lag.show()"
   ]
  },
  {
   "cell_type": "code",
   "execution_count": 31,
   "id": "552ac31c",
   "metadata": {},
   "outputs": [],
   "source": [
    "df_date_lag.write.mode(\"overwrite\").parquet(\"output_parq\")"
   ]
  },
  {
   "cell_type": "code",
   "execution_count": null,
   "id": "f3df8b47",
   "metadata": {},
   "outputs": [],
   "source": [
    "# Write to SQL Table sample code\n",
    "sampleDF.write \\\n",
    "  .format(\"com.microsoft.sqlserver.jdbc.spark\") \\\n",
    "  .mode(\"overwrite\") \\\n",
    "  .option(\"url\", \"jdbc:sqlserver://{SERVER_ADDR};databaseName=emp;\") \\\n",
    "  .option(\"dbtable\", \"employee\") \\\n",
    "  .option(\"user\", \"replace_user_name\") \\\n",
    "  .option(\"password\", \"replace_password\") \\\n",
    "  .save()"
   ]
  }
 ],
 "metadata": {
  "kernelspec": {
   "display_name": "Python 3 (ipykernel)",
   "language": "python",
   "name": "python3"
  },
  "language_info": {
   "codemirror_mode": {
    "name": "ipython",
    "version": 3
   },
   "file_extension": ".py",
   "mimetype": "text/x-python",
   "name": "python",
   "nbconvert_exporter": "python",
   "pygments_lexer": "ipython3",
   "version": "3.10.9"
  }
 },
 "nbformat": 4,
 "nbformat_minor": 5
}
